{
  "nbformat": 4,
  "nbformat_minor": 0,
  "metadata": {
    "colab": {
      "name": "Untitled7.ipynb",
      "provenance": []
    },
    "kernelspec": {
      "name": "python3",
      "display_name": "Python 3"
    },
    "language_info": {
      "name": "python"
    }
  },
  "cells": [
    {
      "cell_type": "code",
      "metadata": {
        "colab": {
          "base_uri": "https://localhost:8080/"
        },
        "id": "2jgt0i5Z-77b",
        "outputId": "7e1dc4d2-1277-4a74-f620-2dcb4738bd39"
      },
      "source": [
        "#INPUT INFORMATION7\n",
        "FullName = input(\"Enter Full Name:\")\n",
        "Course = input(\"Enter the Course: \")\n",
        "Preliminary_Grade = input(\"Enter Preliminary Grade: \")\n",
        "Midterm_Grade = input(\"Enter Midterm Grade: \")\n",
        "Final_Grade = input(\"Enter Final Grade: \")\n",
        "\n",
        "\n",
        "#PRINT INFORMATION\n",
        "SemestralGrade = ((int(Preliminary_Grade) * 0.30)+ (int(Midterm_Grade) * 0.30) + (int(Final_Grade)) * 0.40);\n",
        "print(\"Hello!{}, your Semestral Grade is: {:.2f} \".format(FullName, SemestralGrade))\n"
      ],
      "execution_count": 2,
      "outputs": [
        {
          "output_type": "stream",
          "name": "stdout",
          "text": [
            "Enter Full Name:Lee Gerome Garcia\n",
            "Enter the Course: CPE LAWS\n",
            "Enter Preliminary Grade: 80\n",
            "Enter Midterm Grade: 75\n",
            "Enter Final Grade: 75\n",
            "Hello!Lee Gerome Garcia, your Semestral Grade is: 76.50 \n"
          ]
        }
      ]
    }
  ]
}