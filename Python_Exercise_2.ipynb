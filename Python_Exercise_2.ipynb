{
  "nbformat": 4,
  "nbformat_minor": 0,
  "metadata": {
    "colab": {
      "name": "Untitled6.ipynb",
      "provenance": []
    },
    "kernelspec": {
      "name": "python3",
      "display_name": "Python 3"
    },
    "language_info": {
      "name": "python"
    }
  },
  "cells": [
    {
      "cell_type": "code",
      "metadata": {
        "colab": {
          "base_uri": "https://localhost:8080/"
        },
        "id": "PdAHw2BTidNR",
        "outputId": "5c216439-7762-49bf-961f-5bb736261446"
      },
      "source": [
        "import numpy as np\n",
        "\n",
        "a = np.array(([-5,0],\n",
        "              [4,1]))\n",
        "\n",
        "b = np.array(([6,-3],\n",
        "              [2,3]))\n",
        "\n",
        "sum = np.add(a,b)\n",
        "\n",
        "difference1 = np.subtract(b,a)\n",
        "difference2 = np.subtract(a,b)\n",
        "\n",
        "print(\"The sum of a&b =\", sum)\n",
        "print(\"\\n The difference of b-a =\", difference1)\n",
        "print(\"\\n The difference of a-b =\", difference2)"
      ],
      "execution_count": 11,
      "outputs": [
        {
          "output_type": "stream",
          "name": "stdout",
          "text": [
            "The sum of a&b = [[ 1 -3]\n",
            " [ 6  4]]\n",
            "\n",
            " The difference of b-a = [[11 -3]\n",
            " [-2  2]]\n",
            "\n",
            " The difference of a-b = [[-11   3]\n",
            " [  2  -2]]\n"
          ]
        }
      ]
    }
  ]
}