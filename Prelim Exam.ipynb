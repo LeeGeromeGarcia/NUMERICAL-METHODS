{
  "nbformat": 4,
  "nbformat_minor": 0,
  "metadata": {
    "colab": {
      "name": "Untitled7.ipynb",
      "provenance": []
    },
    "kernelspec": {
      "name": "python3",
      "display_name": "Python 3"
    },
    "language_info": {
      "name": "python"
    }
  },
  "cells": [
    {
      "cell_type": "code",
      "metadata": {
        "colab": {
          "base_uri": "https://localhost:8080/"
        },
        "id": "2jgt0i5Z-77b",
        "outputId": "bea503cd-7857-46ff-816a-c0e0590b7ed1"
      },
      "source": [
        "#Prelim Exam\n",
        "\n",
        "import numpy as np\n",
        "\n",
        "A = np.array([[1,2,3],[ 2,3,3],[3,4,-2]])\n",
        "\n",
        "print(A)\n",
        "print(np.linalg.det(A))\n",
        "\n"
      ],
      "execution_count": 9,
      "outputs": [
        {
          "output_type": "stream",
          "name": "stdout",
          "text": [
            "[[ 1  2  3]\n",
            " [ 2  3  3]\n",
            " [ 3  4 -2]]\n",
            "5.000000000000001\n"
          ]
        }
      ]
    }
  ]
}